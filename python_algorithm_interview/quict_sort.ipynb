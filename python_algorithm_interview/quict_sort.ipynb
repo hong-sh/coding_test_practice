{
 "metadata": {
  "language_info": {
   "codemirror_mode": {
    "name": "ipython",
    "version": 3
   },
   "file_extension": ".py",
   "mimetype": "text/x-python",
   "name": "python",
   "nbconvert_exporter": "python",
   "pygments_lexer": "ipython3",
   "version": "3.7.3-final"
  },
  "orig_nbformat": 2,
  "kernelspec": {
   "name": "Python 3.7.3 64-bit",
   "display_name": "Python 3.7.3 64-bit",
   "metadata": {
    "interpreter": {
     "hash": "5edc29c2ed010d6458d71a83433b383a96a8cbd3efe8531bc90c4b8a5b8bcec9"
    }
   }
  }
 },
 "nbformat": 4,
 "nbformat_minor": 2,
 "cells": [
  {
   "cell_type": "code",
   "execution_count": 5,
   "metadata": {},
   "outputs": [],
   "source": [
    "import typing\n",
    "from typing import List\n",
    "\n",
    "def partition(listA, low, high):\n",
    "    pivot = listA[high]\n",
    "    left , right = low, high-1\n",
    "    print('left, right = ', left, right)\n",
    "    while left < right:\n",
    "        while listA[left] <= pivot:\n",
    "            left += 1\n",
    "        while listA[right] > pivot:\n",
    "            right -= 1\n",
    "        \n",
    "        if left < right:\n",
    "            listA[left], listA[right] = listA[right], listA[left]\n",
    "    \n",
    "    listA[left], listA[high] = listA[high], listA[left]\n",
    "    return left\n",
    "\n",
    "\n",
    "def quick_sort(listA:List[int], low, high):\n",
    "    print('listA, low, high', listA, low, high)\n",
    "    if low < high:\n",
    "        pivot = partition(listA, low, high)\n",
    "        print('listA, low, high, pivot' ,listA, low, high, pivot)\n",
    "        quick_sort(listA, low, pivot-1)\n",
    "        quick_sort(listA, pivot+1, high)"
   ]
  },
  {
   "cell_type": "code",
   "execution_count": 6,
   "metadata": {
    "tags": []
   },
   "outputs": [
    {
     "output_type": "stream",
     "name": "stdout",
     "text": [
      "listA, low, high [1, 3, 2, 5, 7, 4, 6] 0 6\nleft, right =  0 5\nlistA, low, high, pivot [1, 3, 2, 5, 4, 6, 7] 0 6 5\nlistA, low, high [1, 3, 2, 5, 4, 6, 7] 0 4\nleft, right =  0 3\nlistA, low, high, pivot [1, 3, 2, 4, 5, 6, 7] 0 4 3\nlistA, low, high [1, 3, 2, 4, 5, 6, 7] 0 2\nleft, right =  0 1\nlistA, low, high, pivot [1, 2, 3, 4, 5, 6, 7] 0 2 1\nlistA, low, high [1, 2, 3, 4, 5, 6, 7] 0 0\nlistA, low, high [1, 2, 3, 4, 5, 6, 7] 2 2\nlistA, low, high [1, 2, 3, 4, 5, 6, 7] 4 4\nlistA, low, high [1, 2, 3, 4, 5, 6, 7] 6 6\n[1, 2, 3, 4, 5, 6, 7]\n"
     ]
    }
   ],
   "source": [
    "if __name__ == \"__main__\":\n",
    "    listA = [1, 3, 2, 5, 7, 4, 6]\n",
    "    quick_sort(listA, 0, len(listA)-1)\n",
    "    print(listA)"
   ]
  },
  {
   "cell_type": "code",
   "execution_count": null,
   "metadata": {},
   "outputs": [],
   "source": []
  }
 ]
}