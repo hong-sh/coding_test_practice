{
 "metadata": {
  "language_info": {
   "codemirror_mode": {
    "name": "ipython",
    "version": 3
   },
   "file_extension": ".py",
   "mimetype": "text/x-python",
   "name": "python",
   "nbconvert_exporter": "python",
   "pygments_lexer": "ipython3",
   "version": "3.7.3-final"
  },
  "orig_nbformat": 2,
  "kernelspec": {
   "name": "python37364bit8147f75b63dd419fa793773aa42d0692",
   "display_name": "Python 3.7.3 64-bit"
  }
 },
 "nbformat": 4,
 "nbformat_minor": 2,
 "cells": [
  {
   "cell_type": "code",
   "execution_count": 17,
   "metadata": {},
   "outputs": [],
   "source": [
    "from typing import List\n",
    "\n",
    "logs = [\"dig1 8 1 5 1\", \"let1 art can\", \"dig2 3 6\", \"let2 own kit dig\", \"let3 art zero\"]\n",
    "# output = [\"let1 art can\", \"let3 art zero\", \"let2 own kit dig\", \"dig1 8 1 5 1\", \"dig2 3 6\"]\n",
    "# 'dig1 8 1 5 1'\n",
    "# 'let1 art can' 'dig1 8 1 5 1'\n",
    "# 'let1 art can' 'dig1 8 1 5 1' 'dig2 3 6'\n",
    "# 'let1 art can' 'let2 own kit dig' 'dig1 8 1 5 1' 'dig2 3 6'\n",
    "# 'let1 art can' 'let3 art zero' 'let2 own kit dig' 'dig1 8 1 5 1' 'dig2 3 6'\n",
    "\n"
   ]
  },
  {
   "cell_type": "code",
   "execution_count": null,
   "metadata": {},
   "outputs": [],
   "source": [
    "\n",
    "def find_pos(order_logs: List[str], target_log: str) -> int:\n",
    "    pos = 0\n",
    "    for i in range(len(order_logs)):\n",
    "        if order_logs[i].startswith(\"dig\"):\n",
    "            pos = i\n",
    "            break\n",
    "\n",
    "        if order_logs[i][5:] > target_log[5:]:\n",
    "            pos = i\n",
    "            break\n",
    "\n",
    "    return pos\n",
    "\n",
    "def reorder_log(logs : List[str]) -> List[str]:\n",
    "    order_logs = []\n",
    "    for log in logs:\n",
    "        if log.startswith(\"dig\"):\n",
    "            order_logs.append(log)\n",
    "        else:\n",
    "            order_logs.insert(find_pos(order_logs, log), log)\n",
    "\n",
    "    return order_logs"
   ]
  },
  {
   "cell_type": "code",
   "execution_count": null,
   "metadata": {},
   "outputs": [],
   "source": [
    "\n",
    "def reorder_log_using_rambda(logs: List[str]) -> List[str]:\n",
    "    letters, digits = [], []\n",
    "    for log in logs:\n",
    "        if log.split()[1].isdigit():\n",
    "            digits.append(log)\n",
    "        else:\n",
    "            letters.append(log)\n",
    "\n",
    "    letters.sort(key=lambda x: (x.split()[1:], x.split()[0]))\n",
    "    return letters + digits"
   ]
  },
  {
   "cell_type": "code",
   "execution_count": 18,
   "metadata": {},
   "outputs": [
    {
     "output_type": "stream",
     "name": "stdout",
     "text": [
      "['let1 art can', 'let3 art zero', 'let2 own kit dig', 'dig1 8 1 5 1', 'dig2 3 6']\n['let1 art can', 'let3 art zero', 'let2 own kit dig', 'dig1 8 1 5 1', 'dig2 3 6']\n"
     ]
    }
   ],
   "source": [
    "print(reorder_log(logs))\n",
    "print(reorder_log_using_rambda(logs))"
   ]
  },
  {
   "cell_type": "code",
   "execution_count": null,
   "metadata": {},
   "outputs": [],
   "source": []
  }
 ]
}