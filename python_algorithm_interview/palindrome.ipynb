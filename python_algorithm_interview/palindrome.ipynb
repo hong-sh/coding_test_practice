{
 "cells": [
  {
   "cell_type": "code",
   "execution_count": 1,
   "metadata": {},
   "outputs": [],
   "source": [
    "import re\n",
    "input1 = \"A man, a plan, a canal: Panama\"\n",
    "input2 = \"race a car\""
   ]
  },
  {
   "cell_type": "code",
   "execution_count": 2,
   "metadata": {},
   "outputs": [],
   "source": [
    "def palindrome(txt: str) -> bool:\n",
    "    txt = re.sub('[-=+,#/\\?:^$.@*\\\"※~&%ㆍ!』\\\\‘|\\(\\)\\[\\]\\<\\>`\\'…》 ]','',txt).lower()\n",
    "    left = 0\n",
    "    right = len(txt) - 1\n",
    "    while left < right:\n",
    "        if txt[left] != txt[right]:\n",
    "            print(txt[left], txt[right])\n",
    "            return False\n",
    "        left += 1\n",
    "        right -= 1\n",
    "    return True\n"
   ]
  },
  {
   "cell_type": "code",
   "execution_count": 3,
   "metadata": {},
   "outputs": [],
   "source": [
    "def palindrome_using_slice(txt: str) -> bool :\n",
    "    txt = re.sub('[^a-z0-9]', '', txt.lower())\n",
    "    return txt == txt[::-1]"
   ]
  },
  {
   "cell_type": "code",
   "execution_count": 4,
   "metadata": {},
   "outputs": [
    {
     "output_type": "stream",
     "name": "stdout",
     "text": [
      "True\ne a\nFalse\nTrue\nFalse\n"
     ]
    }
   ],
   "source": [
    "print(palindrome(input1))\n",
    "print(palindrome(input2))\n",
    "\n",
    "print(palindrome_using_slice(input1))\n",
    "print(palindrome_using_slice(input2))"
   ]
  },
  {
   "cell_type": "code",
   "execution_count": null,
   "metadata": {},
   "outputs": [],
   "source": []
  }
 ],
 "metadata": {
  "language_info": {
   "codemirror_mode": {
    "name": "ipython",
    "version": 3
   },
   "file_extension": ".py",
   "mimetype": "text/x-python",
   "name": "python",
   "nbconvert_exporter": "python",
   "pygments_lexer": "ipython3",
   "version": "3.7.3-final"
  },
  "orig_nbformat": 2,
  "kernelspec": {
   "name": "python37364bit8dc1172d0f3c43d39eb960d5bd36923d",
   "display_name": "Python 3.7.3 64-bit"
  }
 },
 "nbformat": 4,
 "nbformat_minor": 2
}