{
 "metadata": {
  "language_info": {
   "codemirror_mode": {
    "name": "ipython",
    "version": 3
   },
   "file_extension": ".py",
   "mimetype": "text/x-python",
   "name": "python",
   "nbconvert_exporter": "python",
   "pygments_lexer": "ipython3",
   "version": "3.7.3-final"
  },
  "orig_nbformat": 2,
  "kernelspec": {
   "name": "Python 3.7.3 64-bit",
   "display_name": "Python 3.7.3 64-bit",
   "metadata": {
    "interpreter": {
     "hash": "31f2aee4e71d21fbe5cf8b01ff0e069b9275f58929596ceb00d14d90e3e16cd6"
    }
   }
  }
 },
 "nbformat": 4,
 "nbformat_minor": 2,
 "cells": [
  {
   "cell_type": "code",
   "execution_count": 2,
   "metadata": {},
   "outputs": [],
   "source": [
    "from typing import List\n",
    "import re\n",
    "import collections\n",
    "\n",
    "word1 = \"babad\"\n",
    "word2 = \"cbbd\"\n",
    "#output1 = \"bab\"\n",
    "#output2 = \"bb\""
   ]
  },
  {
   "cell_type": "code",
   "execution_count": null,
   "metadata": {},
   "outputs": [],
   "source": [
    "def is_palindrome(txt: str) -> bool :\n",
    "    txt = re.sub('[^a-z0-9]', '', txt.lower())\n",
    "    return txt == txt[::-1]\n",
    "\n",
    "def longest_palindrome(word: str) -> str:\n",
    "    for i in reversed(range(len(word))):\n",
    "        for j in "
   ]
  }
 ]
}