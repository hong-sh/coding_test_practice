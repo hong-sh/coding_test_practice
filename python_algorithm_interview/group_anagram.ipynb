{
 "metadata": {
  "language_info": {
   "codemirror_mode": {
    "name": "ipython",
    "version": 3
   },
   "file_extension": ".py",
   "mimetype": "text/x-python",
   "name": "python",
   "nbconvert_exporter": "python",
   "pygments_lexer": "ipython3",
   "version": "3.7.3-final"
  },
  "orig_nbformat": 2,
  "kernelspec": {
   "name": "Python 3.7.3 64-bit",
   "display_name": "Python 3.7.3 64-bit",
   "metadata": {
    "interpreter": {
     "hash": "31f2aee4e71d21fbe5cf8b01ff0e069b9275f58929596ceb00d14d90e3e16cd6"
    }
   }
  }
 },
 "nbformat": 4,
 "nbformat_minor": 2,
 "cells": [
  {
   "cell_type": "code",
   "execution_count": 53,
   "metadata": {},
   "outputs": [],
   "source": [
    "import re\n",
    "from typing import Dict, List\n",
    "import collections\n",
    "\n",
    "words = [\"eat\", \"tea\", \"tan\", \"ate\", \"nat\", \"bat\"]\n",
    "# Output [\n",
    "#   [\"ate\", \"eat\", \"tea\"],\n",
    "#   [\"nat\", \"tan\"],\n",
    "#   [\"bat\"]\n",
    "# ]"
   ]
  },
  {
   "cell_type": "code",
   "execution_count": 54,
   "metadata": {},
   "outputs": [],
   "source": [
    "def find_anagram(groups: Dict[str, List], word) -> None:\n",
    "    tmp = ''.join(sorted(word))\n",
    "    for anagram in groups:\n",
    "        if anagram == tmp:\n",
    "            groups[anagram].append(word)\n",
    "            return\n",
    "    groups[tmp] = []\n",
    "    groups[tmp].append(word)\n",
    " \n",
    "def group_anagram(words: List[str]) -> List[str]:\n",
    "    groups = dict()\n",
    "    for word in words:\n",
    "        find_anagram(groups, word)\n",
    "\n",
    "    rst = []\n",
    "    for group in groups:\n",
    "        rst.append(groups[group])\n",
    "\n",
    "    return rst\n",
    "        "
   ]
  },
  {
   "cell_type": "code",
   "execution_count": 55,
   "metadata": {},
   "outputs": [],
   "source": [
    "def group_anagram_using_collections(strs: List[str]) -> List[List[str]]:\n",
    "    anagrams = collections.defaultdict(list)\n",
    "\n",
    "    for word in strs:\n",
    "        anagrams[''.join(sorted(word))].append(word)\n",
    "\n",
    "    return anagrams.values()"
   ]
  },
  {
   "cell_type": "code",
   "execution_count": 56,
   "metadata": {},
   "outputs": [
    {
     "output_type": "stream",
     "name": "stdout",
     "text": [
      "[['eat', 'tea', 'ate'], ['tan', 'nat'], ['bat']]\ndict_values([['eat', 'tea', 'ate'], ['tan', 'nat'], ['bat']])\n"
     ]
    }
   ],
   "source": [
    "print(group_anagram(words))\n",
    "print(group_anagram_using_collections(words))"
   ]
  },
  {
   "cell_type": "code",
   "execution_count": null,
   "metadata": {},
   "outputs": [],
   "source": []
  }
 ]
}