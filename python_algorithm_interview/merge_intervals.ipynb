{
 "metadata": {
  "language_info": {
   "codemirror_mode": {
    "name": "ipython",
    "version": 3
   },
   "file_extension": ".py",
   "mimetype": "text/x-python",
   "name": "python",
   "nbconvert_exporter": "python",
   "pygments_lexer": "ipython3",
   "version": "3.7.3-final"
  },
  "orig_nbformat": 2,
  "kernelspec": {
   "name": "Python 3.7.3 64-bit",
   "display_name": "Python 3.7.3 64-bit",
   "metadata": {
    "interpreter": {
     "hash": "5edc29c2ed010d6458d71a83433b383a96a8cbd3efe8531bc90c4b8a5b8bcec9"
    }
   }
  }
 },
 "nbformat": 4,
 "nbformat_minor": 2,
 "cells": [
  {
   "cell_type": "code",
   "execution_count": 19,
   "metadata": {},
   "outputs": [],
   "source": [
    "import typing\n",
    "from typing import List\n",
    "\n",
    "def merge_interval(listA:List[List]):\n",
    "    listA = sorted(listA, key=lambda x : x[0])\n",
    "    i = 0\n",
    "    while i < len(listA)-1:\n",
    "        if listA[i+1][0] <= listA[i][1]:\n",
    "            listA[i][1] = listA[i+1][1]\n",
    "            del listA[i+1]\n",
    "        else:\n",
    "            i += 1\n",
    "    return listA"
   ]
  },
  {
   "cell_type": "code",
   "execution_count": 20,
   "metadata": {},
   "outputs": [
    {
     "output_type": "stream",
     "name": "stdout",
     "text": [
      "[[1, 6], [8, 10], [15, 18]]\n"
     ]
    }
   ],
   "source": [
    "if __name__ == \"__main__\":\n",
    "    listA = [[2, 6], [1, 3], [8, 10], [15, 18]]\n",
    "    listA = merge_interval(listA)\n",
    "    print(listA)"
   ]
  }
 ]
}