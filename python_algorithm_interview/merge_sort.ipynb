{
 "metadata": {
  "language_info": {
   "codemirror_mode": {
    "name": "ipython",
    "version": 3
   },
   "file_extension": ".py",
   "mimetype": "text/x-python",
   "name": "python",
   "nbconvert_exporter": "python",
   "pygments_lexer": "ipython3",
   "version": "3.7.3-final"
  },
  "orig_nbformat": 2,
  "kernelspec": {
   "name": "Python 3.7.3 64-bit",
   "display_name": "Python 3.7.3 64-bit",
   "metadata": {
    "interpreter": {
     "hash": "5edc29c2ed010d6458d71a83433b383a96a8cbd3efe8531bc90c4b8a5b8bcec9"
    }
   }
  }
 },
 "nbformat": 4,
 "nbformat_minor": 2,
 "cells": [
  {
   "cell_type": "code",
   "execution_count": 5,
   "metadata": {},
   "outputs": [],
   "source": [
    "import typing\n",
    "from typing import List\n",
    "\n",
    "\n",
    "def merge(listA:List[int], left:int, mid:int, right:int):\n",
    "    list_tmp = []\n",
    "    left_start = left\n",
    "    right_start = mid + 1\n",
    "    \n",
    "    while left_start <= mid and right_start <= right:\n",
    "        print('listA[left], listA[right] = ', listA[left_start], listA[right_start])\n",
    "        if listA[left_start] <= listA[right_start]:\n",
    "            list_tmp.append(listA[left_start])\n",
    "            left_start += 1\n",
    "        if listA[right_start] <= listA[left_start]:\n",
    "            list_tmp.append(listA[right_start])\n",
    "            right_start += 1\n",
    "        print('list_tmp = ', list_tmp)\n",
    "\n",
    "    while left_start <= mid:\n",
    "        list_tmp.append(listA[left_start])\n",
    "        left_start += 1\n",
    "        print('list_tmp = ', list_tmp)\n",
    "\n",
    "    while right_start <= right:\n",
    "        list_tmp.append(listA[right_start])\n",
    "        right_start += 1\n",
    "        print('list_tmp = ', list_tmp)\n",
    "\n",
    "\n",
    "    listA[left:right+1] = list_tmp\n",
    "    print('listA = ', listA)\n",
    "            \n",
    "\n",
    "def merge_sort(listA:List[int], left:int, right:int):\n",
    "    if left < right:\n",
    "        mid = (left + right) // 2 \n",
    "        merge_sort(listA, left, mid)\n",
    "        merge_sort(listA, mid + 1, right)\n",
    "        merge(listA, left, mid, right)"
   ]
  },
  {
   "cell_type": "code",
   "execution_count": 6,
   "metadata": {},
   "outputs": [
    {
     "output_type": "stream",
     "name": "stdout",
     "text": [
      "listA[left], listA[right] =  1 3\nlist_tmp =  [1, 3]\nlistA =  [1, 3, 2, 5, 7, 4, 6]\nlistA[left], listA[right] =  2 5\nlist_tmp =  [2, 5]\nlistA =  [1, 3, 2, 5, 7, 4, 6]\nlistA[left], listA[right] =  1 2\nlist_tmp =  [1, 2]\nlistA[left], listA[right] =  3 5\nlist_tmp =  [1, 2, 3]\nlist_tmp =  [1, 2, 3, 5]\nlistA =  [1, 2, 3, 5, 7, 4, 6]\nlistA[left], listA[right] =  7 4\nlist_tmp =  [4]\nlist_tmp =  [4, 7]\nlistA =  [1, 2, 3, 5, 4, 7, 6]\nlistA[left], listA[right] =  4 6\nlist_tmp =  [4, 6]\nlist_tmp =  [4, 6, 7]\nlistA =  [1, 2, 3, 5, 4, 6, 7]\nlistA[left], listA[right] =  1 4\nlist_tmp =  [1]\nlistA[left], listA[right] =  2 4\nlist_tmp =  [1, 2]\nlistA[left], listA[right] =  3 4\nlist_tmp =  [1, 2, 3, 4]\nlistA[left], listA[right] =  5 6\nlist_tmp =  [1, 2, 3, 4, 5]\nlist_tmp =  [1, 2, 3, 4, 5, 6]\nlist_tmp =  [1, 2, 3, 4, 5, 6, 7]\nlistA =  [1, 2, 3, 4, 5, 6, 7]\n[1, 2, 3, 4, 5, 6, 7]\n"
     ]
    }
   ],
   "source": [
    "if __name__ == \"__main__\":\n",
    "    listA = [1, 3, 2, 5, 7, 4, 6]\n",
    "    merge_sort(listA, 0, len(listA) - 1)\n",
    "    print(listA)"
   ]
  },
  {
   "cell_type": "code",
   "execution_count": null,
   "metadata": {},
   "outputs": [],
   "source": []
  }
 ]
}