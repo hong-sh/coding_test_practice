{
 "metadata": {
  "language_info": {
   "codemirror_mode": {
    "name": "ipython",
    "version": 3
   },
   "file_extension": ".py",
   "mimetype": "text/x-python",
   "name": "python",
   "nbconvert_exporter": "python",
   "pygments_lexer": "ipython3",
   "version": "3.7.3-final"
  },
  "orig_nbformat": 2,
  "kernelspec": {
   "name": "Python 3.7.3 64-bit",
   "display_name": "Python 3.7.3 64-bit",
   "metadata": {
    "interpreter": {
     "hash": "5edc29c2ed010d6458d71a83433b383a96a8cbd3efe8531bc90c4b8a5b8bcec9"
    }
   }
  }
 },
 "nbformat": 4,
 "nbformat_minor": 2,
 "cells": [
  {
   "cell_type": "code",
   "execution_count": 1,
   "metadata": {},
   "outputs": [],
   "source": [
    "import typing\n",
    "from typing import List\n",
    "\n",
    "def rotate_matrix(matrix:List[List]):\n",
    "    matrix_transpose = []\n",
    "    for i in range(len(matrix[0])):\n",
    "        matrix_tmp = []\n",
    "        for j in range(len(matrix)):\n",
    "            matrix_tmp.append(matrix[j][i])\n",
    "        matrix_transpose.append(matrix_tmp)\n",
    "    return matrix_transpose"
   ]
  },
  {
   "cell_type": "code",
   "execution_count": 2,
   "metadata": {},
   "outputs": [
    {
     "output_type": "stream",
     "name": "stdout",
     "text": [
      "3 3\n3 2\n[[1, 4, 7], [2, 5, 8], [3, 6, 9]]\n[[1, 3, 5], [2, 4, 6]]\n[[1], [2], [3]]\n"
     ]
    }
   ],
   "source": [
    "if __name__ == \"__main__\":\n",
    "    matrixA = [[1, 2, 3], [4, 5, 6], [7, 8, 9]]\n",
    "    matrixB = [[1, 2], [3, 4], [5, 6]]\n",
    "    matrixC = [[1, 2, 3]]\n",
    "\n",
    "    print(len(matrixA), len(matrixB))\n",
    "    print(len(matrixA[0]), len(matrixB[0]))\n",
    "    matrixA = rotate_matrix(matrixA)\n",
    "    print(matrixA)\n",
    "    matrixB = rotate_matrix(matrixB)\n",
    "    print(matrixB)\n",
    "    matrixC = rotate_matrix(matrixC)\n",
    "    print(matrixC)"
   ]
  },
  {
   "cell_type": "code",
   "execution_count": null,
   "metadata": {},
   "outputs": [],
   "source": []
  }
 ]
}