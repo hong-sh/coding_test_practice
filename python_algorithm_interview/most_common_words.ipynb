{
 "metadata": {
  "language_info": {
   "codemirror_mode": {
    "name": "ipython",
    "version": 3
   },
   "file_extension": ".py",
   "mimetype": "text/x-python",
   "name": "python",
   "nbconvert_exporter": "python",
   "pygments_lexer": "ipython3",
   "version": "3.7.3-final"
  },
  "orig_nbformat": 2,
  "kernelspec": {
   "name": "python37364bit8147f75b63dd419fa793773aa42d0692",
   "display_name": "Python 3.7.3 64-bit"
  }
 },
 "nbformat": 4,
 "nbformat_minor": 2,
 "cells": [
  {
   "cell_type": "code",
   "execution_count": 49,
   "metadata": {},
   "outputs": [],
   "source": [
    "from typing import List\n",
    "import re\n",
    "import collections\n",
    "\n",
    "paragraph = \"Bob hit a ball, the hit BALL flew far after it was hit.\"\n",
    "banned = [\"hit\"]\n",
    "#Output ball\n"
   ]
  },
  {
   "cell_type": "code",
   "execution_count": 55,
   "metadata": {},
   "outputs": [],
   "source": [
    "def most_common_words(paragraph: str, banned: List[str]) -> str:\n",
    "    paragraph = re.sub(\"[,.]\",'',paragraph.lower()).split()\n",
    "    #['bob', 'hit', 'a', 'ball', 'the', 'hit', 'ball', 'flew', 'far', 'after', 'it', 'was', 'hit']\n",
    "    words_dict = dict()\n",
    "    for word in paragraph:\n",
    "        if word not in words_dict and word not in banned:\n",
    "            words_dict[word] = 1\n",
    "        elif word in words_dict:\n",
    "            words_dict[word] += 1\n",
    "\n",
    "    #words_dict = sorted(words_dict.items(), key=(lambda x: x[1]), reverse=True)\n",
    "    #return words_dict[0][0]\n",
    "    return max(words_dict, key=words_dict.get)"
   ]
  },
  {
   "cell_type": "code",
   "execution_count": 56,
   "metadata": {},
   "outputs": [],
   "source": [
    "def most_common_words_using_list_comprehension(paragraph: str, banned: List[str]) -> str:\n",
    "    words = [word for word in re.sub(r'[^\\w]', ' ', paragraph).lower().split() if word not in banned]\n",
    "    counts = collections.defaultdict(int)\n",
    "    for word in words:\n",
    "        counts[word] += 1\n",
    "\n",
    "    return max(counts, key=counts.get)"
   ]
  },
  {
   "cell_type": "code",
   "execution_count": 57,
   "metadata": {},
   "outputs": [
    {
     "output_type": "stream",
     "name": "stdout",
     "text": [
      "ball\nball\n"
     ]
    }
   ],
   "source": [
    "print(most_common_words(paragraph, banned))\n",
    "print(most_common_words_using_list_comprehension(paragraph, banned))"
   ]
  },
  {
   "cell_type": "code",
   "execution_count": null,
   "metadata": {},
   "outputs": [],
   "source": []
  }
 ]
}