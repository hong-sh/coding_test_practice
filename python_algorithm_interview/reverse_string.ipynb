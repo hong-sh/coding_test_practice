{
 "metadata": {
  "language_info": {
   "codemirror_mode": {
    "name": "ipython",
    "version": 3
   },
   "file_extension": ".py",
   "mimetype": "text/x-python",
   "name": "python",
   "nbconvert_exporter": "python",
   "pygments_lexer": "ipython3",
   "version": "3.7.3-final"
  },
  "orig_nbformat": 2,
  "kernelspec": {
   "name": "python37364bit8147f75b63dd419fa793773aa42d0692",
   "display_name": "Python 3.7.3 64-bit"
  }
 },
 "nbformat": 4,
 "nbformat_minor": 2,
 "cells": [
  {
   "cell_type": "code",
   "execution_count": 81,
   "metadata": {},
   "outputs": [],
   "source": [
    "from typing import List\n",
    "\n",
    "def reverse_string(txt : List[str]) -> str:\n",
    "    left ,right = 0, len(txt) - 1\n",
    "    while left < right:\n",
    "        txt[left], txt[right] = txt[right], txt[left]\n",
    "        left += 1\n",
    "        right -= 1\n",
    "\n",
    "    return txt\n",
    "\n"
   ]
  },
  {
   "cell_type": "code",
   "execution_count": null,
   "metadata": {},
   "outputs": [],
   "source": [
    "def reverse_string_using_slice(txt : List[str]) -> List[str]:\n",
    "    return txt[::-1]\n",
    "\n",
    "def reverse_string_using_func(txt : List[str]) -> List[str]:\n",
    "    print(txt)\n",
    "    return reversed(txt)"
   ]
  },
  {
   "cell_type": "code",
   "execution_count": 82,
   "metadata": {},
   "outputs": [
    {
     "output_type": "stream",
     "name": "stdout",
     "text": [
      "['h', 'e', 'l', 'l', 'o']\n<list_reverseiterator object at 0x10a9a0c18>\n['o', 'l', 'l', 'e', 'h']\n['o', 'l', 'l', 'e', 'h']\n"
     ]
    },
    {
     "output_type": "execute_result",
     "data": {
      "text/plain": [
       "list"
      ]
     },
     "metadata": {},
     "execution_count": 82
    }
   ],
   "source": [
    "input1 = ['h', 'e', 'l', 'l', 'o']\n",
    "print(reverse_string_using_func(input1))\n",
    "type(input1)\n",
    "print(reverse_string_using_slice(input1))\n",
    "type(input1)\n",
    "print(reverse_string(input1))\n",
    "type(input1)"
   ]
  },
  {
   "cell_type": "code",
   "execution_count": 62,
   "metadata": {},
   "outputs": [
    {
     "output_type": "execute_result",
     "data": {
      "text/plain": [
       "['h', 'e', 'l', 'l', 'o']"
      ]
     },
     "metadata": {},
     "execution_count": 62
    }
   ],
   "source": []
  },
  {
   "cell_type": "code",
   "execution_count": null,
   "metadata": {},
   "outputs": [],
   "source": []
  }
 ]
}